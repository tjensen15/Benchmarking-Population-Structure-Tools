{
 "cells": [
  {
   "cell_type": "markdown",
   "metadata": {},
   "source": [
    "# Shell scripts for running each tool\n"
   ]
  },
  {
   "cell_type": "markdown",
   "metadata": {},
   "source": [
    "## Ground truth dataset\n",
    "#### 6.4mil SNPs, 2504 individuals\n",
    "\n",
    "Data downloaded from: \n",
    "\n",
    "\n",
    "VCF file: ftp://ftp.1000genomes.ebi.ac.uk/vol1/ftp/release/20130502/ALL.chr1.phase3_shapeit2_mvncall_integrated_v5b.20130502.genotypes.vcf.gz\n",
    "\n",
    "\n",
    "Population/sample metadata: ftp://ftp.1000genomes.ebi.ac.uk/vol1/ftp/release/20130502/integrated_call_samples_v3.20130502.ALL.panel"
   ]
  },
  {
   "cell_type": "code",
   "execution_count": null,
   "metadata": {
    "vscode": {
     "languageId": "shellscript"
    }
   },
   "outputs": [],
   "source": [
    "# Getting text file with only sample IDs and what super population it belongs to\n",
    "awk '{print $1, $3}' all_samples.txt > all_sample_pop.info"
   ]
  },
  {
   "cell_type": "markdown",
   "metadata": {},
   "source": [
    "## Benchmarking time run time, output, standard error, and memory usage\n",
    "\n",
    "I may do multiple datasets with varying SNP amounts to see how they compare. I will use three datasets with varying SNP amounts to see how run-time and memory usage is affected. I downloaded each VCF file from these locations using wget. For the ground truth, I had to use two different datasets from the same populations and source but different chromosomes due to large file sizes.\n",
    "\n",
    "#### Datasets used:\n",
    "##### ~49,000SNPs\n",
    "e.vcf: https://www.frontiersin.org/journals/genetics/articles/10.3389/fgene.2023.1092066/full#supplementary-material;\n",
    "##### ~1.1mil SNPs\n",
    "https://www.internationalgenome.org/data-portal/search?q=chr22\n",
    "##### ~2.3mil SNPs\n",
    "https://www.internationalgenome.org/data-portal/data-collection/ggvp-grch37\n",
    "\n",
    "#### Ground truth\n",
    "ADMIXTURE: ftp://ftp.1000genomes.ebi.ac.uk/vol1/ftp/release/20130502/ALL.chr21.phase3_integrated_v1b.20130502.genotypes.vcf.gz\n",
    "\n",
    "\n",
    "VCF2PCACluster and PLINK2: ftp://ftp.1000genomes.ebi.ac.uk/vol1/ftp/release/20130502/ALL.chr1.phase3_integrated_v1b.20130502.genotypes.vcf.gz\n"
   ]
  },
  {
   "cell_type": "markdown",
   "metadata": {},
   "source": [
    "### VCF2PCACluster scripts\n",
    "#### Ground truth"
   ]
  },
  {
   "cell_type": "code",
   "execution_count": null,
   "metadata": {
    "vscode": {
     "languageId": "shellscript"
    }
   },
   "outputs": [],
   "source": [
    "# puts job in the background and also outputs the log to a specific folder to track progress and how it ran\n",
    "nohup ~/benchmarking_project/VCF2PCACluster/bin/VCF2PCACluster -InVCF ground_truth.vcf.gz -OutPut ~/benchmarking_project/final_project/VCF2PCACluster_results/ground_truth_all_bestK -InSampleGroup all_sample_pop.info -BestKManually  5 > ~/benchmarking_project/final_project/ground_truth/vcf2pcacluster_truth_bestK.log 2>&1 &"
   ]
  },
  {
   "cell_type": "markdown",
   "metadata": {},
   "source": [
    "#### Real data"
   ]
  },
  {
   "cell_type": "code",
   "execution_count": null,
   "metadata": {
    "vscode": {
     "languageId": "shellscript"
    }
   },
   "outputs": [],
   "source": [
    "~/benchmarking_project/VCF2PCACluster/bin/VCF2PCACluster -InVCF real_50000.vcf -OutPut ~/benchmarking_project/final_project/VCF2PCACluster_results/vcf2pcacluster_real_50000\n",
    "\n",
    "~/benchmarking_project/VCF2PCACluster/bin/VCF2PCACluster -InVCF real_3.vcf.gz -OutPut ~/benchmarking_project/final_project/VCF2PCACluster_results/vcf2pcacluster_real_3\n",
    "\n",
    "# large file, so ran it in the background\n",
    "nohup ~/benchmarking_project/VCF2PCACluster/bin/VCF2PCACluster -InVCF real_truth_4pop.genotypes.vcf.gz -OutPut ~/benchmarking_project/final_project/VCF2PCACluster_results/vcf2pcacluster_real_truth_4pop > ~/benchmarking_project/final_project/logs/vcf2pcacluster_real_truth_4pop.log 2>&1 &\n",
    "\n"
   ]
  },
  {
   "cell_type": "markdown",
   "metadata": {},
   "source": [
    "### ADMIXTURE Scripts"
   ]
  },
  {
   "cell_type": "markdown",
   "metadata": {},
   "source": [
    "#### Ground Truth"
   ]
  },
  {
   "cell_type": "markdown",
   "metadata": {},
   "source": [
    "##### Cross validation script for which K value is best\n",
    "I am only testing 3-6 for K ancestral populations because I know my data has a population of 5, but it would be interesting to see if it detects any populations above 5. "
   ]
  },
  {
   "cell_type": "code",
   "execution_count": null,
   "metadata": {
    "vscode": {
     "languageId": "shellscript"
    }
   },
   "outputs": [],
   "source": [
    "# Getting ped/map files \n",
    "nohup plink --vcf ground_truth.vcf.gz --recode --out ground_truth &\n",
    "nohup plink --file ground_truth --make-bed --out ground_truth &\n",
    "\n",
    "# converting to .bed, issues with using .ped/.map files with admixture\n",
    "plink2 --vcf ground_truth2.vcf.gz --max-alleles 2 --make-bed --out ground_truth2"
   ]
  },
  {
   "cell_type": "markdown",
   "metadata": {},
   "source": [
    "Had to run each K-fold cross validation in parallel and loosen the C regularization parameter due to run-time issues."
   ]
  },
  {
   "cell_type": "code",
   "execution_count": null,
   "metadata": {
    "vscode": {
     "languageId": "shellscript"
    }
   },
   "outputs": [],
   "source": [
    "#!/bin/bash\n",
    "\n",
    "# Number of processors to use (half of total, adjust based on your system specs)\n",
    "NUM_THREADS=12\n",
    "CONV_CRIT=0.1\n",
    "\n",
    "# Run ADMIXTURE in parallel for K values\n",
    "for K in 3 4 5 6; do\n",
    "    nohup ~/benchmarking_project/admixture/admixture/admixture \\\n",
    "        --cv ground_truth2.bed $K -j$NUM_THREADS -C $CONV_CRIT \\\n",
    "        > ground_truth_log${K}.out 2>&1 &\n",
    "done\n",
    "\n",
    "echo \"ADMIXTURE jobs submitted in parallel for K=3 to 6 with $NUM_THREADS threads each.\""
   ]
  },
  {
   "cell_type": "code",
   "execution_count": null,
   "metadata": {
    "vscode": {
     "languageId": "shellscript"
    }
   },
   "outputs": [],
   "source": [
    "grep -h CV ground_truth_log*.out # to view CV error to choose which K is best for further analysis\n",
    "'''\n",
    "CV error (K=3): 0.06388\n",
    "CV error (K=4): 0.06241\n",
    "CV error (K=5): 0.06188\n",
    "CV error (K=6): 0.06302\n",
    "''' # Best K = 5"
   ]
  },
  {
   "cell_type": "markdown",
   "metadata": {},
   "source": [
    "#### Real data"
   ]
  },
  {
   "cell_type": "code",
   "execution_count": null,
   "metadata": {
    "vscode": {
     "languageId": "shellscript"
    }
   },
   "outputs": [],
   "source": [
    "# converting vcf to ped file format then to .bed\n",
    "plink --vcf real_50000.vcf --recode --out real_50000 --chr-set 50\n",
    "plink --file new_real_50000 --make-bed --out real_50000 --chr-set 50\n",
    "\n",
    "# removing snps with high missingness\n",
    "plink --bfile real_50000 --geno 0.05 --make-bed --out filtered_real_50000 --chr-set 50\n",
    "\n",
    "for K in 1 2 3 4 5 6 7; \\\n",
    "    do ./admixture --cv ~/benchmarking_project/final_project/filtered_real_50000.bed $K | tee real_50000log${K}.out; done\n",
    "grep -h CV real_50000log*.out\n",
    "'''Writing output files.\n",
    "CV error (K=1): 0.60157\n",
    "CV error (K=2): 0.59049\n",
    "CV error (K=3): 0.57551\n",
    "CV error (K=4): 0.59876\n",
    "CV error (K=5): 0.60458\n",
    "CV error (K=6): 0.62582\n",
    "CV error (K=7): 0.61644''' # K = 3 is best"
   ]
  },
  {
   "cell_type": "code",
   "execution_count": null,
   "metadata": {
    "vscode": {
     "languageId": "shellscript"
    }
   },
   "outputs": [],
   "source": [
    "# converting vcf to ped file format then to .bed\n",
    "plink --vcf real_3.vcf.gz --recode --out real_3 \n",
    "plink --file real_3 --make-bed --out real_3\n",
    "# removing snps with high missingness\n",
    "plink --bfile real_3 --geno 0.05 --make-bed --out filtered_real_3\n",
    "\n",
    "\n",
    "nohup bash -c 'for K in 1 2 3 4 5 6; \\\n",
    "do ~/benchmarking_project/admixture/admixture/admixture --cv ~/benchmarking_project/final_project/filtered_real_3.ped $K | tee real_3log${K}.out; done' &\n",
    "grep -h CV real_3log*.out # to view CV error to choose which K is best "
   ]
  },
  {
   "cell_type": "code",
   "execution_count": null,
   "metadata": {
    "vscode": {
     "languageId": "shellscript"
    }
   },
   "outputs": [],
   "source": [
    "# converting vcf to ped file format then to .bed\n",
    "plink --vcf real_truth_4pop.genotypes.vcf.gz --recode --out real_truth_4pop\n",
    "plink --file real_truth_4pop --make-bed --out real_truth_4pop\n",
    "\n",
    "nohup bash -c 'for K in 1 2 3 4 5; \\\n",
    "do ~/benchmarking_project/admixture/admixture/admixture --cv ~/benchmarking_project/final_project/real_truth_4pop.bed $K | tee real_truth_log${K}.out; done' &\n",
    "grep -h CV real_truth_log*.out # to view CV error to choose which K is best "
   ]
  },
  {
   "cell_type": "markdown",
   "metadata": {},
   "source": [
    "### PLINK2 Scripts"
   ]
  },
  {
   "cell_type": "markdown",
   "metadata": {},
   "source": [
    "#### Ground Truth"
   ]
  },
  {
   "cell_type": "code",
   "execution_count": null,
   "metadata": {
    "vscode": {
     "languageId": "shellscript"
    }
   },
   "outputs": [],
   "source": [
    "nohup plink2 --ped ground_truth.ped --map ground_truth.map --pca 10 --out ~/benchmarking_project/final_project/plink2_results/ground_truth_all &"
   ]
  },
  {
   "cell_type": "markdown",
   "metadata": {},
   "source": [
    "#### Real Data for Benchmarking"
   ]
  },
  {
   "cell_type": "code",
   "execution_count": null,
   "metadata": {
    "vscode": {
     "languageId": "shellscript"
    }
   },
   "outputs": [],
   "source": [
    "plink2 --ped real_50000.ped --map real_50000.map --pca 10 --out ~/benchmarking_project/final_project/plink2_results/real_50000_output"
   ]
  },
  {
   "cell_type": "code",
   "execution_count": null,
   "metadata": {
    "vscode": {
     "languageId": "shellscript"
    }
   },
   "outputs": [],
   "source": [
    "plink2 --ped real_3.ped --map real_3.map --pca 10 --out ~/benchmarking_project/final_project/plink2_results/real_3_output"
   ]
  },
  {
   "cell_type": "code",
   "execution_count": null,
   "metadata": {
    "vscode": {
     "languageId": "shellscript"
    }
   },
   "outputs": [],
   "source": [
    "plink2 --ped real_truth_4pop.ped --map real_truth_4pop.map --pca 6 approx --out ~/benchmarking_project/final_project/plink2_results/real_truth_4pop_output"
   ]
  }
 ],
 "metadata": {
  "kernelspec": {
   "display_name": "base",
   "language": "python",
   "name": "python3"
  },
  "language_info": {
   "codemirror_mode": {
    "name": "ipython",
    "version": 3
   },
   "file_extension": ".py",
   "mimetype": "text/x-python",
   "name": "python",
   "nbconvert_exporter": "python",
   "pygments_lexer": "ipython3",
   "version": "3.12.4"
  }
 },
 "nbformat": 4,
 "nbformat_minor": 2
}
